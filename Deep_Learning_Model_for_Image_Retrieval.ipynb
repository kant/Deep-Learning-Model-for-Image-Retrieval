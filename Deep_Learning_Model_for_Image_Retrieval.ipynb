{
  "nbformat": 4,
  "nbformat_minor": 0,
  "metadata": {
    "colab": {
      "name": "Deep-Learning-Model-for-Image-Retrieval.ipynb",
      "provenance": [],
      "collapsed_sections": []
    },
    "kernelspec": {
      "name": "python3",
      "display_name": "Python 3"
    }
  },
  "cells": [
    {
      "cell_type": "markdown",
      "metadata": {
        "id": "hxFKlfU8VqnJ"
      },
      "source": [
        "# Prepare Enviroment"
      ]
    },
    {
      "cell_type": "code",
      "metadata": {
        "colab": {
          "base_uri": "https://localhost:8080/"
        },
        "id": "Y9bahpbKVukI",
        "outputId": "71a9b710-c978-45fe-c505-431d9ba3adef"
      },
      "source": [
        "!pip install turicreate"
      ],
      "execution_count": 1,
      "outputs": [
        {
          "output_type": "stream",
          "text": [
            "Collecting turicreate\n",
            "\u001b[?25l  Downloading https://files.pythonhosted.org/packages/ea/63/00ef7586c56a1aa48a7acabe20e1118cd82794785a56137e190fc6fb049c/turicreate-6.4.1-cp36-cp36m-manylinux1_x86_64.whl (92.0MB)\n",
            "\u001b[K     |████████████████████████████████| 92.0MB 43kB/s \n",
            "\u001b[?25hRequirement already satisfied: pillow>=5.2.0 in /usr/local/lib/python3.6/dist-packages (from turicreate) (7.0.0)\n",
            "Collecting tensorflow<2.1.0,>=2.0.0\n",
            "\u001b[?25l  Downloading https://files.pythonhosted.org/packages/0a/3e/714b89b3c104695be38fbf372fb3a6220f8320bbb506899c74c254728d0f/tensorflow-2.0.4-cp36-cp36m-manylinux2010_x86_64.whl (86.4MB)\n",
            "\u001b[K     |████████████████████████████████| 86.4MB 79kB/s \n",
            "\u001b[?25hRequirement already satisfied: scipy>=1.1.0 in /usr/local/lib/python3.6/dist-packages (from turicreate) (1.4.1)\n",
            "Collecting coremltools==3.3\n",
            "\u001b[?25l  Downloading https://files.pythonhosted.org/packages/77/19/611916d1ef326d38857d93af5ba184f6ad7491642e0fa4f9082e7d82f034/coremltools-3.3-cp36-none-manylinux1_x86_64.whl (3.4MB)\n",
            "\u001b[K     |████████████████████████████████| 3.4MB 45.7MB/s \n",
            "\u001b[?25hRequirement already satisfied: requests>=2.9.1 in /usr/local/lib/python3.6/dist-packages (from turicreate) (2.23.0)\n",
            "Collecting numba<0.51.0\n",
            "\u001b[?25l  Downloading https://files.pythonhosted.org/packages/ab/2a/c4c9f2ee4edb374af7faa407f66cdc3427489f1c4c4744aeab76230952b7/numba-0.50.1-cp36-cp36m-manylinux2014_x86_64.whl (3.6MB)\n",
            "\u001b[K     |████████████████████████████████| 3.6MB 39.6MB/s \n",
            "\u001b[?25hRequirement already satisfied: numpy in /usr/local/lib/python3.6/dist-packages (from turicreate) (1.19.5)\n",
            "Requirement already satisfied: six>=1.10.0 in /usr/local/lib/python3.6/dist-packages (from turicreate) (1.15.0)\n",
            "Requirement already satisfied: decorator>=4.0.9 in /usr/local/lib/python3.6/dist-packages (from turicreate) (4.4.2)\n",
            "Collecting resampy==0.2.1\n",
            "\u001b[?25l  Downloading https://files.pythonhosted.org/packages/14/b6/66a06d85474190b50aee1a6c09cdc95bb405ac47338b27e9b21409da1760/resampy-0.2.1.tar.gz (322kB)\n",
            "\u001b[K     |████████████████████████████████| 327kB 40.1MB/s \n",
            "\u001b[?25hCollecting prettytable==0.7.2\n",
            "  Downloading https://files.pythonhosted.org/packages/ef/30/4b0746848746ed5941f052479e7c23d2b56d174b82f4fd34a25e389831f5/prettytable-0.7.2.tar.bz2\n",
            "Requirement already satisfied: pandas>=0.23.2 in /usr/local/lib/python3.6/dist-packages (from turicreate) (1.1.5)\n",
            "Requirement already satisfied: astor>=0.6.0 in /usr/local/lib/python3.6/dist-packages (from tensorflow<2.1.0,>=2.0.0->turicreate) (0.8.1)\n",
            "Collecting tensorflow-estimator<2.1.0,>=2.0.0\n",
            "\u001b[?25l  Downloading https://files.pythonhosted.org/packages/fc/08/8b927337b7019c374719145d1dceba21a8bb909b93b1ad6f8fb7d22c1ca1/tensorflow_estimator-2.0.1-py2.py3-none-any.whl (449kB)\n",
            "\u001b[K     |████████████████████████████████| 450kB 47.6MB/s \n",
            "\u001b[?25hRequirement already satisfied: keras-preprocessing>=1.0.5 in /usr/local/lib/python3.6/dist-packages (from tensorflow<2.1.0,>=2.0.0->turicreate) (1.1.2)\n",
            "Requirement already satisfied: wrapt>=1.11.1 in /usr/local/lib/python3.6/dist-packages (from tensorflow<2.1.0,>=2.0.0->turicreate) (1.12.1)\n",
            "Requirement already satisfied: h5py<=2.10.0 in /usr/local/lib/python3.6/dist-packages (from tensorflow<2.1.0,>=2.0.0->turicreate) (2.10.0)\n",
            "Requirement already satisfied: grpcio>=1.8.6 in /usr/local/lib/python3.6/dist-packages (from tensorflow<2.1.0,>=2.0.0->turicreate) (1.32.0)\n",
            "Requirement already satisfied: absl-py>=0.7.0 in /usr/local/lib/python3.6/dist-packages (from tensorflow<2.1.0,>=2.0.0->turicreate) (0.10.0)\n",
            "Collecting keras-applications>=1.0.8\n",
            "\u001b[?25l  Downloading https://files.pythonhosted.org/packages/71/e3/19762fdfc62877ae9102edf6342d71b28fbfd9dea3d2f96a882ce099b03f/Keras_Applications-1.0.8-py3-none-any.whl (50kB)\n",
            "\u001b[K     |████████████████████████████████| 51kB 5.2MB/s \n",
            "\u001b[?25hRequirement already satisfied: opt-einsum>=2.3.2 in /usr/local/lib/python3.6/dist-packages (from tensorflow<2.1.0,>=2.0.0->turicreate) (3.3.0)\n",
            "Requirement already satisfied: termcolor>=1.1.0 in /usr/local/lib/python3.6/dist-packages (from tensorflow<2.1.0,>=2.0.0->turicreate) (1.1.0)\n",
            "Requirement already satisfied: protobuf>=3.6.1 in /usr/local/lib/python3.6/dist-packages (from tensorflow<2.1.0,>=2.0.0->turicreate) (3.12.4)\n",
            "Requirement already satisfied: google-pasta>=0.1.6 in /usr/local/lib/python3.6/dist-packages (from tensorflow<2.1.0,>=2.0.0->turicreate) (0.2.0)\n",
            "Requirement already satisfied: wheel>=0.26; python_version >= \"3\" in /usr/local/lib/python3.6/dist-packages (from tensorflow<2.1.0,>=2.0.0->turicreate) (0.36.2)\n",
            "Collecting gast==0.2.2\n",
            "  Downloading https://files.pythonhosted.org/packages/4e/35/11749bf99b2d4e3cceb4d55ca22590b0d7c2c62b9de38ac4a4a7f4687421/gast-0.2.2.tar.gz\n",
            "Collecting tensorboard<2.1.0,>=2.0.0\n",
            "\u001b[?25l  Downloading https://files.pythonhosted.org/packages/76/54/99b9d5d52d5cb732f099baaaf7740403e83fe6b0cedde940fabd2b13d75a/tensorboard-2.0.2-py3-none-any.whl (3.8MB)\n",
            "\u001b[K     |████████████████████████████████| 3.8MB 42.5MB/s \n",
            "\u001b[?25hRequirement already satisfied: chardet<4,>=3.0.2 in /usr/local/lib/python3.6/dist-packages (from requests>=2.9.1->turicreate) (3.0.4)\n",
            "Requirement already satisfied: urllib3!=1.25.0,!=1.25.1,<1.26,>=1.21.1 in /usr/local/lib/python3.6/dist-packages (from requests>=2.9.1->turicreate) (1.24.3)\n",
            "Requirement already satisfied: idna<3,>=2.5 in /usr/local/lib/python3.6/dist-packages (from requests>=2.9.1->turicreate) (2.10)\n",
            "Requirement already satisfied: certifi>=2017.4.17 in /usr/local/lib/python3.6/dist-packages (from requests>=2.9.1->turicreate) (2020.12.5)\n",
            "Requirement already satisfied: setuptools in /usr/local/lib/python3.6/dist-packages (from numba<0.51.0->turicreate) (51.3.3)\n",
            "Collecting llvmlite<0.34,>=0.33.0.dev0\n",
            "\u001b[?25l  Downloading https://files.pythonhosted.org/packages/d5/37/10d2c4ba0c131cf112d0a8fc97af7a77ca4a769aff626b2bfa2e57e679cf/llvmlite-0.33.0-cp36-cp36m-manylinux1_x86_64.whl (18.3MB)\n",
            "\u001b[K     |████████████████████████████████| 18.3MB 243kB/s \n",
            "\u001b[?25hRequirement already satisfied: pytz>=2017.2 in /usr/local/lib/python3.6/dist-packages (from pandas>=0.23.2->turicreate) (2018.9)\n",
            "Requirement already satisfied: python-dateutil>=2.7.3 in /usr/local/lib/python3.6/dist-packages (from pandas>=0.23.2->turicreate) (2.8.1)\n",
            "Requirement already satisfied: werkzeug>=0.11.15 in /usr/local/lib/python3.6/dist-packages (from tensorboard<2.1.0,>=2.0.0->tensorflow<2.1.0,>=2.0.0->turicreate) (1.0.1)\n",
            "Requirement already satisfied: google-auth<2,>=1.6.3 in /usr/local/lib/python3.6/dist-packages (from tensorboard<2.1.0,>=2.0.0->tensorflow<2.1.0,>=2.0.0->turicreate) (1.17.2)\n",
            "Requirement already satisfied: google-auth-oauthlib<0.5,>=0.4.1 in /usr/local/lib/python3.6/dist-packages (from tensorboard<2.1.0,>=2.0.0->tensorflow<2.1.0,>=2.0.0->turicreate) (0.4.2)\n",
            "Requirement already satisfied: markdown>=2.6.8 in /usr/local/lib/python3.6/dist-packages (from tensorboard<2.1.0,>=2.0.0->tensorflow<2.1.0,>=2.0.0->turicreate) (3.3.3)\n",
            "Requirement already satisfied: rsa<5,>=3.1.4; python_version >= \"3\" in /usr/local/lib/python3.6/dist-packages (from google-auth<2,>=1.6.3->tensorboard<2.1.0,>=2.0.0->tensorflow<2.1.0,>=2.0.0->turicreate) (4.7)\n",
            "Requirement already satisfied: pyasn1-modules>=0.2.1 in /usr/local/lib/python3.6/dist-packages (from google-auth<2,>=1.6.3->tensorboard<2.1.0,>=2.0.0->tensorflow<2.1.0,>=2.0.0->turicreate) (0.2.8)\n",
            "Requirement already satisfied: cachetools<5.0,>=2.0.0 in /usr/local/lib/python3.6/dist-packages (from google-auth<2,>=1.6.3->tensorboard<2.1.0,>=2.0.0->tensorflow<2.1.0,>=2.0.0->turicreate) (4.2.1)\n",
            "Requirement already satisfied: requests-oauthlib>=0.7.0 in /usr/local/lib/python3.6/dist-packages (from google-auth-oauthlib<0.5,>=0.4.1->tensorboard<2.1.0,>=2.0.0->tensorflow<2.1.0,>=2.0.0->turicreate) (1.3.0)\n",
            "Requirement already satisfied: importlib-metadata; python_version < \"3.8\" in /usr/local/lib/python3.6/dist-packages (from markdown>=2.6.8->tensorboard<2.1.0,>=2.0.0->tensorflow<2.1.0,>=2.0.0->turicreate) (3.4.0)\n",
            "Requirement already satisfied: pyasn1>=0.1.3 in /usr/local/lib/python3.6/dist-packages (from rsa<5,>=3.1.4; python_version >= \"3\"->google-auth<2,>=1.6.3->tensorboard<2.1.0,>=2.0.0->tensorflow<2.1.0,>=2.0.0->turicreate) (0.4.8)\n",
            "Requirement already satisfied: oauthlib>=3.0.0 in /usr/local/lib/python3.6/dist-packages (from requests-oauthlib>=0.7.0->google-auth-oauthlib<0.5,>=0.4.1->tensorboard<2.1.0,>=2.0.0->tensorflow<2.1.0,>=2.0.0->turicreate) (3.1.0)\n",
            "Requirement already satisfied: zipp>=0.5 in /usr/local/lib/python3.6/dist-packages (from importlib-metadata; python_version < \"3.8\"->markdown>=2.6.8->tensorboard<2.1.0,>=2.0.0->tensorflow<2.1.0,>=2.0.0->turicreate) (3.4.0)\n",
            "Requirement already satisfied: typing-extensions>=3.6.4; python_version < \"3.8\" in /usr/local/lib/python3.6/dist-packages (from importlib-metadata; python_version < \"3.8\"->markdown>=2.6.8->tensorboard<2.1.0,>=2.0.0->tensorflow<2.1.0,>=2.0.0->turicreate) (3.7.4.3)\n",
            "Building wheels for collected packages: resampy, prettytable, gast\n",
            "  Building wheel for resampy (setup.py) ... \u001b[?25l\u001b[?25hdone\n",
            "  Created wheel for resampy: filename=resampy-0.2.1-cp36-none-any.whl size=320849 sha256=8942de0608bde1b0d945549df6a9c44cf09c98827d6903a2f112a1ba45803a4d\n",
            "  Stored in directory: /root/.cache/pip/wheels/ff/4f/ed/2e6c676c23efe5394bb40ade50662e90eb46e29b48324c5f9b\n",
            "  Building wheel for prettytable (setup.py) ... \u001b[?25l\u001b[?25hdone\n",
            "  Created wheel for prettytable: filename=prettytable-0.7.2-cp36-none-any.whl size=13702 sha256=cf952361fe83af795393fb1da6dcbc2f5423ffc9028a7557edf4dc4e46ff467f\n",
            "  Stored in directory: /root/.cache/pip/wheels/80/34/1c/3967380d9676d162cb59513bd9dc862d0584e045a162095606\n",
            "  Building wheel for gast (setup.py) ... \u001b[?25l\u001b[?25hdone\n",
            "  Created wheel for gast: filename=gast-0.2.2-cp36-none-any.whl size=7540 sha256=ba312a0722762bc143e15e51d148aa6745ef6d0a589f822d1b58153864312705\n",
            "  Stored in directory: /root/.cache/pip/wheels/5c/2e/7e/a1d4d4fcebe6c381f378ce7743a3ced3699feb89bcfbdadadd\n",
            "Successfully built resampy prettytable gast\n",
            "\u001b[31mERROR: tensorflow 2.0.4 has requirement numpy<1.19.0,>=1.16.0, but you'll have numpy 1.19.5 which is incompatible.\u001b[0m\n",
            "\u001b[31mERROR: tensorflow-probability 0.12.1 has requirement gast>=0.3.2, but you'll have gast 0.2.2 which is incompatible.\u001b[0m\n",
            "\u001b[31mERROR: pynndescent 0.5.1 has requirement numba>=0.51.2, but you'll have numba 0.50.1 which is incompatible.\u001b[0m\n",
            "\u001b[31mERROR: librosa 0.8.0 has requirement resampy>=0.2.2, but you'll have resampy 0.2.1 which is incompatible.\u001b[0m\n",
            "Installing collected packages: tensorflow-estimator, keras-applications, gast, tensorboard, tensorflow, coremltools, llvmlite, numba, resampy, prettytable, turicreate\n",
            "  Found existing installation: tensorflow-estimator 2.4.0\n",
            "    Uninstalling tensorflow-estimator-2.4.0:\n",
            "      Successfully uninstalled tensorflow-estimator-2.4.0\n",
            "  Found existing installation: gast 0.3.3\n",
            "    Uninstalling gast-0.3.3:\n",
            "      Successfully uninstalled gast-0.3.3\n",
            "  Found existing installation: tensorboard 2.4.1\n",
            "    Uninstalling tensorboard-2.4.1:\n",
            "      Successfully uninstalled tensorboard-2.4.1\n",
            "  Found existing installation: tensorflow 2.4.1\n",
            "    Uninstalling tensorflow-2.4.1:\n",
            "      Successfully uninstalled tensorflow-2.4.1\n",
            "  Found existing installation: llvmlite 0.34.0\n",
            "    Uninstalling llvmlite-0.34.0:\n",
            "      Successfully uninstalled llvmlite-0.34.0\n",
            "  Found existing installation: numba 0.51.2\n",
            "    Uninstalling numba-0.51.2:\n",
            "      Successfully uninstalled numba-0.51.2\n",
            "  Found existing installation: resampy 0.2.2\n",
            "    Uninstalling resampy-0.2.2:\n",
            "      Successfully uninstalled resampy-0.2.2\n",
            "  Found existing installation: prettytable 2.0.0\n",
            "    Uninstalling prettytable-2.0.0:\n",
            "      Successfully uninstalled prettytable-2.0.0\n",
            "Successfully installed coremltools-3.3 gast-0.2.2 keras-applications-1.0.8 llvmlite-0.33.0 numba-0.50.1 prettytable-0.7.2 resampy-0.2.1 tensorboard-2.0.2 tensorflow-2.0.4 tensorflow-estimator-2.0.1 turicreate-6.4.1\n"
          ],
          "name": "stdout"
        }
      ]
    },
    {
      "cell_type": "code",
      "metadata": {
        "colab": {
          "base_uri": "https://localhost:8080/"
        },
        "id": "76U0272nVy13",
        "outputId": "bb497ad6-02b6-40be-f6ce-04d54f182aee"
      },
      "source": [
        "#Autenthicate in Google to access my datasets\r\n",
        "from google.colab import drive\r\n",
        "drive.mount('/content/gdrive')"
      ],
      "execution_count": 2,
      "outputs": [
        {
          "output_type": "stream",
          "text": [
            "Mounted at /content/gdrive\n"
          ],
          "name": "stdout"
        }
      ]
    },
    {
      "cell_type": "code",
      "metadata": {
        "id": "YIWj-uU5WEqv"
      },
      "source": [
        "import turicreate"
      ],
      "execution_count": 4,
      "outputs": []
    },
    {
      "cell_type": "markdown",
      "metadata": {
        "id": "O_teN-SdWc8_"
      },
      "source": [
        "# Load the data"
      ]
    },
    {
      "cell_type": "code",
      "metadata": {
        "id": "wWefF2lFWZGi"
      },
      "source": [
        "image_train = turicreate.SFrame('/content/gdrive/My Drive/Turicreate/Week 6/image_train_data/')\r\n",
        "image_test = turicreate.SFrame('/content/gdrive/My Drive/Turicreate/Week 6/image_test_data/')"
      ],
      "execution_count": 5,
      "outputs": []
    },
    {
      "cell_type": "code",
      "metadata": {
        "colab": {
          "base_uri": "https://localhost:8080/",
          "height": 406
        },
        "id": "joUtZKPPWiIL",
        "outputId": "e8ef34aa-233f-47c1-8a44-6dbae6c97915"
      },
      "source": [
        "image_train[0:3].explore() #the deep features were previusly add it but for new data sets, it cant be added with the code below"
      ],
      "execution_count": 10,
      "outputs": [
        {
          "output_type": "display_data",
          "data": {
            "text/html": [
              "<html lang=\"en\">                                                     <head>                                                               <style>                                                              .sframe {                                                            font-size: 12px;                                                   font-family: HelveticaNeue;                                        border: 1px solid silver;                                        }                                                                  .sframe thead th {                                                   background: #F7F7F7;                                               font-family: HelveticaNeue-Medium;                                 font-size: 14px;                                                   line-height: 16.8px;                                               padding-top: 16px;                                                 padding-bottom: 16px;                                              padding-left: 10px;                                                padding-right: 38px;                                               border-top: 1px solid #E9E9E9;                                     border-bottom: 1px solid #E9E9E9;                                  white-space: nowrap;                                               overflow: hidden;                                                  text-overflow:ellipsis;                                            text-align:center;                                                 font-weight:normal;                                              }                                                                  .sframe tbody th {                                                   background: #FFFFFF;                                               text-align:left;                                                   font-weight:normal;                                                border-right: 1px solid #E9E9E9;                                 }                                                                  .sframe td {                                                         background: #FFFFFF;                                               padding-left: 10px;                                                padding-right: 38px;                                               padding-top: 14px;                                                 padding-bottom: 14px;                                              border-bottom: 1px solid #E9E9E9;                                  max-height: 0px;                                                   transition: max-height 5s ease-out;                                vertical-align: middle;                                            font-family: HelveticaNeue;                                        font-size: 12px;                                                   line-height: 16.8px;                                               background: #FFFFFF;                                             }                                                                  .sframe tr {                                                         padding-left: 10px;                                                padding-right: 38px;                                               padding-top: 14px;                                                 padding-bottom: 14px;                                              border-bottom: 1px solid #E9E9E9;                                  max-height: 0px;                                                   transition: max-height 5s ease-out;                                vertical-align: middle;                                            font-family: HelveticaNeue;                                        font-size: 12px;                                                   line-height: 16.8px;                                               background: #FFFFFF;                                             }                                                                  .sframe tr:hover {                                                   background: silver;                                              },                                                               </style>                                                         </head>                                                            <body>                                                               <h1>  </h1>                                             <table border=\"1\" class=\"dataframe sframe\">\n",
              "  <thead>\n",
              "    <tr style=\"text-align: right;\">\n",
              "      <th></th>\n",
              "      <th>id</th>\n",
              "      <th>image</th>\n",
              "      <th>label</th>\n",
              "      <th>deep_features</th>\n",
              "      <th>image_array</th>\n",
              "    </tr>\n",
              "  </thead>\n",
              "  <tbody>\n",
              "    <tr>\n",
              "      <th>0</th>\n",
              "      <td>24</td>\n",
              "      <td><img src=\"data:image/png;base64,iVBORw0KGgoAAAANSUhEUgAAACAAAAAgCAIAAAD8GO2jAAAKTElEQVR4nAXBS28cyWEA4Kruqn5OT8/0DIfzpIZDSRT1ohxJsSJZKycbb+wgGyuXXIycctj8hZyC3HL3IUAQBEgOBoI4gLNZBPbCjo1IWWlXu5R2pcgSJZLikJzhPHqm34+q6qp8H/zBh7d5mimQXNrexEhd63YyFAdeMNtbRsscEOXwaPL1wa5lmlWr4tjl7YsbGBmuF/uxP/dnSAGGpklCAxTncVapVZqd6u9975q+KReIYBMiUBAEMKRgOXIn4yMpuaJXHU2tVktAZnNGwqvbldbgBqcgWESmZiiSTLLcLpUdx/7W9UtnBq39vTdvd4fnzm9xNW+ddbAjjH5RlPIsTUjO4Yff/27VsLEg1Qos66BWqcVMY7JWrmmKzCgJWBKt6rYCdQUYvMCLDLpBcXh8CmRBZVo7U+psWcjmG5sbEhJ6BWdcHI/mBkaVqkVYgiyriWVZQyDLQ06ZKmNdsbxI7M+CSl22qyUvibp2JVmSSegKBCKqaUbdtNTZbNbod61SmcRCIH7wYpy68WLuemkwcrOP/upHtqbNgznihUIBLQrSbNYPdt8waq6WdSAMmZUW03mccEUxE15eRO7JeKE6OCTB4uggz0ngRcsi9J8GHDDDUE9ODmWu6hpsnjN+9NFHjXYlSN1f/8dD5PkulvNaxThztn0wfBXkgUnLjAIvybiUzRdZGMbX//x2jIM89HMGpYY9Tybj0TxLiuIEMEpKutptNYqkyLnQqsqd793YvNKYx6cPPn344Kf/i0gxKhjwvGSyGDNMx9NJnkAJaAvP5TLNCOv3t2q13qsnT2DBgmmoW2JtrZ6Ese9OKZdLhgF5UcKaJitewZ1uo7+59vL/Xjx4sLvzq6/YHKJzF1eGe6dBGJzOpoUspp67KHJBAOdU0zSSg+2t63ksZUHASZyybKVk6I4VhxRCaXQ8LmhKBQSM1zX1W9e2Vi+tvXw6+vLhzvBNinKsQoyev3grc6QgfW190FpfOzr4ue9G4TLBsqolsN/ZcOzaF189kB37yva9SeBGBdFKZq21QkRWKYnJccILXDZKd7a2jIr9/Gg8+cYnc8VCuUAFyWL09MmRY5v9Xtuxa2uDM7/4+NeZzjOX5BzWG71au/PZl58hPdc3rm29d/f9QfVn//5Td/66vdqglKYygmlUZJKBFVnRhuPT/f03AGOMRWugywpIiYSA0KKQTCbeNzsvB+sbtl3JKd++frHb6GYR870TQ2k7jfNvpmLNl9cLR61eUeI5px7nUrnRitwjQ1a8OPr4v3/JhaSYmiT4qTerFkbJsVSrjFbrVkk3YcGmR5MkTBqN+txb1Grm5qB9+PaoX+9MJt6nv/i5VKnW7t8aetHLI1fMFjqZYmGmBZHKePz2VNNVaJveeNEqa+Wy7gUy8bThdLHIXHShVWdEqlRLFlZJmjeazu6eKAj94qsnjrnqL0MapRbN9g9ePnz0tdIAu8M9NNq9UqtZlp5oXDiI9NS1TjcKgbsIDEsBkCNFhzKWkbh1+wIiNNd1S0AR5ZmfROVKDXI9jZnvz5fToGa2N89c7rSLPgenrxfTr59VVCX3CO4oGQZ5AUtmNVDD6ex0xVnZOl+3NON05jNeWCv0vT/4fbOnS3a9QiFhAgwn0+H0FCpQ00CahYqhxNSv1Jxbd96XdDvPtHBCgcdBbCQBT7LUi8MoTQghTrWepQJh+fsffreyUneTWHb09+9/2Blc8jwNOfVqnIWHJ8chL2beommavY3S6dGcCXx3+063evln//XJo2dfYmPgNG/WGp0snVEmp74Xy4pchQWUITAAr8Sx8/DR0ltYte53ulu9mJVfPR7PpxESSnLuarMYTgaNOpf8hRdDg69t1wAw79374NnnL6Zip74uktA2zfPN1e3x/me2jktcEcBaeIlPQFHIEA2mgSmgVHVWqqrJfPD0ZMRziWdllMuku27d3b5s1x33dBG7mQJxr3UGG43J3JNMYa5IJ4us3b+wuXVLQE2GIdKU1wvIISwUwyqvVqr1NOMMAAA4YbkkYJqlTFBGIJYQOjiMV842p7vD282VNAuiIIcpVKjljhJPfletGzPPHy/yRhPptpYQkCbh8t2pj2XZkByrlHLCQIIQ4pwrmiZAEUTueHSslBRJNiLGUMU0u601b+bN9xbRae7P0qW7KFUaXpgkND6eYirolUs9UxV5nEqout68+aeVw09e/ueOlwPUVqQCZ3JJKVHGgzhhecKyOPBdEUql8krCCKKeP307gnn6xaPHWSh4qkRhmqxl58/3do/3IDZ+Z/vGfBHSFHhxDHS71blyOTz59Le/Kdva5to5USrROA28JS/IaHLIi0JBWPACIlmWgIoRotx8trOnVZJ606ltdN8+PcpjPh3Pt65u3rx5KwzJ/u5emuaBN6LFsMC5B8PuSjur3oXZyenCA8s4jf00DBhJGc0BEEBVZFlSZUxJxjhHg2vXo+Co1ZF6/VVVqsyOgpjnRKJJmo8Ws3CZ+JNgNDwJQ6CeaUty+7cnO417N29c+xPv0b9NvT0R5VwwQtOCcgSRjCTOKcaqhrU8TnKeo4k717hMXSk001wD9aaTYaLq+t7eO93Snj95VlHrDbMxHe6z2gvH4tB98/qxmzoXFJjIkReFEcCQcKKokDNaMKSo1YIVghYIylmRoXA+MnXbDdM499cvnJ1MFkEUNvXSyWh0+epms91gMQwin6YzsTyICUjiY3c8ngfDJPFZEnFQMEpVA3/wx7csO9v58sV8HCHQygtJ1YAGBKooajgf11ZsAOUgyAgBLadbNZ0lDMdHo5XV2tc7L8MoM7DWRljAIE2nOZN1EnHOMyC4JDjnjDKkyPd+8O3tO91nT/b/51fDOASC6zLXEUmoYiCksfVB73jqaqZartfKluPoyfH+/uA750r4UMiWYbGmYSGMQRZHGecsRxhLoKCUFAWDQjz4zfONi+cvXDv77T+0y237wS+fn7z25dyWzCbWe4ZUkcwykiSCDeznCdQlp2GFMfED2un2S7aplrCpST2rVFYxISnJYpJGnOUy5JIAnIrFKPyXv//4m89ndfvqrVsf/MVf3r94s5yIPUlv8sJipVaFIS5kyarUnEbreDasdrTeuc7u4UGt02BmZLQUVMa6ija6bQyKguYkTWiegoJpiqJiVZFhNFv+5B8+efk4lpPL9fKN+3/2w/7ZVSkjRGJQU7RlSqNCr9YG5waX56deGKbb184ztkQaPbvVVYAomaYJpaut9mC1ASUAIQJCKgRIWc4QS0WSiSjO5z/+8d/97d/89T//4z/JQNx+7yrKEoQl5i9jVdd1rLzbe/Xim895krqHo/qFzUG3B1mx2Tnj7YypF5XrvaptNWt1P2PzIJMkiLEsIKCQr/X7P7z/R8vstRu/8YN3kxn4yb/ubqz1pHazb5hKRuI8zuOFOx29lnkkc8KyfLlY9jcG78YjqusX794YlZdvV6cTfakYYKPTNGUZFgXNckELwDiWhaJTyxb1Val/3rj8uzVZ5Y8fvPp/4cse8NQTHegAAAAASUVORK5CYII=\"/></td>\n",
              "      <td>bird</td>\n",
              "      <td>[0.24287176132202148, 1.0954537391662598, 0.0, 0.39362990856170654, 0.0, 0.0, 11.894915580749512, 0.0, 0.0, 0.0, 0.0, 0.0, 0.0, 0.0, 0.0, 0.0, 0.0, 0.5788496136665344, 0.4954667389392853, 2.5141289234161377, 0.0, 1.5180106163024902, 0.0, 0.0, 0.0, 0.0, 0.0, 0.0, 0.0, 0.0, 0.0, 0.0, 0.0, 0.0, 0.0, 1.5813961029052734, 0.0, 0.0, 2.595609426498413, 2.7079553604125977, 0.0, 0.0, 0.0, 0.8509902954101562, 0.0, 0.7203489542007446, 0.0, 0.0, 0.0, 0.0, 0.0, 0.2700355052947998, 0.0, 0.0, 0.0, 0.0, 0.08592796325683594, 0.0, 0.7010231018066406, 0.0, 0.0, 0.0, 0.0, 0.024805665016174316, 0.0, 0.0, 0.17549043893814087, 0.0, 0.0, 0.0, 0.0, 0.0, 2.392784595489502, 0.0, 0.0, 4.471865653991699, 0.0, 1.6358323097229004, 0.0, 4.417484760284424, 0.0, 0.0, 0.0, 0.0, 0.0, 0.0, 0.0, 0.0, 0.0, 0.0, 0.0, 1.4117904901504517, 0.0, 0.0, 0.0, 0.0, 0.0, 0.0, 0.0, 0.0, ...]</td>\n",
              "      <td>[73.0, 77.0, 58.0, 71.0, 68.0, 50.0, 77.0, 69.0, 44.0, 120.0, 116.0, 83.0, 125.0, 120.0, 90.0, 155.0, 148.0, 117.0, 147.0, 152.0, 106.0, 133.0, 136.0, 92.0, 112.0, 101.0, 75.0, 100.0, 84.0, 68.0, 100.0, 78.0, 74.0, 69.0, 49.0, 51.0, 22.0, 16.0, 13.0, 35.0, 27.0, 24.0, 52.0, 40.0, 40.0, 70.0, 55.0, 54.0, 117.0, 97.0, 89.0, 122.0, 101.0, 99.0, 103.0, 85.0, 88.0, 88.0, 74.0, 73.0, 68.0, 59.0, 52.0, 72.0, 65.0, 52.0, 82.0, 73.0, 60.0, 84.0, 72.0, 68.0, 84.0, 67.0, 73.0, 77.0, 56.0, 65.0, 93.0, 75.0, 81.0, 117.0, 102.0, 98.0, 174.0, 171.0, 146.0, 183.0, 210.0, 149.0, 180.0, 214.0, 143.0, 185.0, 225.0, 144.0, 73.0, 74.0, 52.0, 75.0, ...]</td>\n",
              "    </tr>\n",
              "    <tr>\n",
              "      <th>1</th>\n",
              "      <td>33</td>\n",
              "      <td><img src=\"data:image/png;base64,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\"/></td>\n",
              "      <td>cat</td>\n",
              "      <td>[0.5250879526138306, 0.0, 0.0, 0.0, 0.0, 0.0, 9.948286056518555, 0.0, 0.0, 0.0, 0.0, 0.0, 1.0126363039016724, 0.0, 0.0, 0.0, 0.0, 0.0, 0.0, 0.0, 0.0, 1.1646251678466797, 0.0, 0.0, 0.0, 0.0, 0.4600375294685364, 0.0, 0.0, 0.0, 0.0, 0.0, 0.0, 0.0, 0.0, 0.3580564260482788, 0.0, 0.0, 3.517725944519043, 2.9159154891967773, 0.0, 0.0, 0.0, 0.0, 0.4551548957824707, 0.0, 0.0, 0.0, 0.9146482944488525, 0.0, 0.0, 0.0, 0.0, 0.0, 0.0, 0.0, 0.0, 0.0, 0.0, 0.0, 0.0, 0.0, 0.0, 0.8120278716087341, 0.04379773139953613, 0.0, 1.6515014171600342, 0.0, 0.0, 0.0, 0.0, 0.0, 1.3530466556549072, 0.0, 0.0, 1.4851171970367432, 0.0, 0.0, 0.0, 1.5763869285583496, 0.0, 0.0, 0.0, 0.0, 0.0, 0.0, 0.0, 0.0, 0.0, 0.0, 0.0, 3.6830389499664307, 1.643679141998291, 0.0, 0.0, 0.0, 0.0, 0.0, 0.0, 0.0, ...]</td>\n",
              "      <td>[7.0, 5.0, 8.0, 7.0, 5.0, 8.0, 5.0, 4.0, 6.0, 7.0, 4.0, 7.0, 11.0, 5.0, 9.0, 11.0, 5.0, 9.0, 17.0, 11.0, 15.0, 25.0, 19.0, 23.0, 18.0, 9.0, 17.0, 9.0, 1.0, 9.0, 13.0, 7.0, 15.0, 24.0, 19.0, 27.0, 21.0, 19.0, 25.0, 34.0, 32.0, 35.0, 52.0, 43.0, 42.0, 40.0, 27.0, 26.0, 19.0, 9.0, 10.0, 11.0, 6.0, 10.0, 20.0, 16.0, 18.0, 36.0, 29.0, 28.0, 25.0, 20.0, 22.0, 23.0, 19.0, 22.0, 32.0, 21.0, 22.0, 33.0, 26.0, 29.0, 58.0, 57.0, 61.0, 73.0, 75.0, 81.0, 83.0, 91.0, 94.0, 61.0, 68.0, 66.0, 69.0, 71.0, 66.0, 82.0, 84.0, 78.0, 80.0, 85.0, 81.0, 69.0, 73.0, 68.0, 6.0, 4.0, 8.0, 6.0, ...]</td>\n",
              "    </tr>\n",
              "    <tr>\n",
              "      <th>2</th>\n",
              "      <td>36</td>\n",
              "      <td><img src=\"data:image/png;base64,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\"/></td>\n",
              "      <td>cat</td>\n",
              "      <td>[0.5660159587860107, 0.0, 0.0, 0.0, 0.0, 0.0, 9.997204780578613, 0.0, 0.0, 0.0, 1.38345205783844, 0.0, 0.7764788269996643, 0.0, 0.0, 0.044802725315093994, 0.22744053602218628, 0.5177360773086548, 0.0, 1.5863749980926514, 0.0, 1.238269329071045, 0.0, 0.6377935409545898, 1.8000781536102295, 1.9250504970550537, 0.06807559728622437, 0.0, 0.0, 0.0, 0.0, 0.0, 0.0, 0.0, 0.0, 0.0, 0.0, 0.0, 2.452914237976074, 0.7830307483673096, 0.0, 0.0, 0.014504671096801758, 0.0, 0.0, 1.1913495063781738, 0.0, 0.0, 0.0, 0.0, 0.0, 0.0, 0.0, 0.0, 0.0, 1.8588502407073975, 0.23833894729614258, 0.0, 0.0, 0.0, 0.0, 0.0, 0.0, 0.4233408570289612, 0.0, 0.9965428113937378, 2.3011531829833984, 0.0, 0.0, 0.0, 0.0, 0.0, 2.076474189758301, 0.07118624448776245, 0.0, 1.7414445877075195, 0.0, 0.0, 0.0, 0.0, 0.0, 0.0, 0.3547537922859192, 0.0, 0.0, 0.0, 0.0, 0.0, 0.0, 0.0, 0.0, 2.167968273162842, 0.0, 0.0, 0.0, 0.0, 0.0, 0.0, 0.0, 0.0, ...]</td>\n",
              "      <td>[169.0, 122.0, 65.0, 131.0, 108.0, 75.0, 193.0, 196.0, 192.0, 218.0, 221.0, 222.0, 211.0, 215.0, 216.0, 206.0, 214.0, 216.0, 200.0, 211.0, 212.0, 193.0, 206.0, 206.0, 186.0, 201.0, 201.0, 182.0, 197.0, 196.0, 178.0, 192.0, 192.0, 173.0, 187.0, 187.0, 167.0, 182.0, 182.0, 160.0, 175.0, 175.0, 155.0, 169.0, 169.0, 150.0, 164.0, 164.0, 144.0, 158.0, 158.0, 139.0, 153.0, 153.0, 134.0, 148.0, 148.0, 133.0, 144.0, 144.0, 130.0, 140.0, 141.0, 126.0, 136.0, 137.0, 125.0, 136.0, 137.0, 128.0, 138.0, 139.0, 131.0, 141.0, 142.0, 131.0, 144.0, 144.0, 149.0, 163.0, 163.0, 176.0, 194.0, 192.0, 173.0, 192.0, 190.0, 172.0, 187.0, 187.0, 169.0, 183.0, 183.0, 166.0, 181.0, 181.0, 165.0, 119.0, 62.0, 127.0, ...]</td>\n",
              "    </tr>\n",
              "  </tbody>\n",
              "</table>                          </body>                                                          </html>"
            ],
            "text/plain": [
              "<IPython.core.display.HTML object>"
            ]
          },
          "metadata": {
            "tags": []
          }
        }
      ]
    },
    {
      "cell_type": "markdown",
      "metadata": {
        "id": "qGvPc1MKW2ZO"
      },
      "source": [
        "# Train model using deep features\r\n",
        "the deep features were previusly add it but for new data sets, it cant be added with the code below.\r\n"
      ]
    },
    {
      "cell_type": "code",
      "metadata": {
        "id": "SwVYkCJIWlo5"
      },
      "source": [
        "#deep_learning_model = turicreate.load_model('imagenet_model_iter45')\r\n",
        "#image_train['deep_features'] = deep_learning_model.extract_features(image_train)"
      ],
      "execution_count": 13,
      "outputs": []
    },
    {
      "cell_type": "markdown",
      "metadata": {
        "id": "cHFDNHshYQrt"
      },
      "source": [
        "# Train a logistic classifier with the Deep Featrues"
      ]
    },
    {
      "cell_type": "code",
      "metadata": {
        "colab": {
          "base_uri": "https://localhost:8080/",
          "height": 386
        },
        "id": "5EEbGn-sW_NZ",
        "outputId": "e743af6e-7d40-47c6-eaa3-43fd33908f13"
      },
      "source": [
        "deep_features_model = turicreate.logistic_classifier.create(image_train,\r\n",
        "                                                           target='label',\r\n",
        "                                                           features = ['deep_features'])"
      ],
      "execution_count": 14,
      "outputs": [
        {
          "output_type": "stream",
          "text": [
            "PROGRESS: Creating a validation set from 5 percent of training data. This may take a while.\n",
            "          You can set ``validation_set=None`` to disable validation tracking.\n",
            "\n"
          ],
          "name": "stdout"
        },
        {
          "output_type": "display_data",
          "data": {
            "text/html": [
              "<pre>Logistic regression:</pre>"
            ],
            "text/plain": [
              "Logistic regression:"
            ]
          },
          "metadata": {
            "tags": []
          }
        },
        {
          "output_type": "display_data",
          "data": {
            "text/html": [
              "<pre>--------------------------------------------------------</pre>"
            ],
            "text/plain": [
              "--------------------------------------------------------"
            ]
          },
          "metadata": {
            "tags": []
          }
        },
        {
          "output_type": "display_data",
          "data": {
            "text/html": [
              "<pre>Number of examples          : 1904</pre>"
            ],
            "text/plain": [
              "Number of examples          : 1904"
            ]
          },
          "metadata": {
            "tags": []
          }
        },
        {
          "output_type": "display_data",
          "data": {
            "text/html": [
              "<pre>Number of classes           : 4</pre>"
            ],
            "text/plain": [
              "Number of classes           : 4"
            ]
          },
          "metadata": {
            "tags": []
          }
        },
        {
          "output_type": "display_data",
          "data": {
            "text/html": [
              "<pre>Number of feature columns   : 1</pre>"
            ],
            "text/plain": [
              "Number of feature columns   : 1"
            ]
          },
          "metadata": {
            "tags": []
          }
        },
        {
          "output_type": "display_data",
          "data": {
            "text/html": [
              "<pre>Number of unpacked features : 4096</pre>"
            ],
            "text/plain": [
              "Number of unpacked features : 4096"
            ]
          },
          "metadata": {
            "tags": []
          }
        },
        {
          "output_type": "display_data",
          "data": {
            "text/html": [
              "<pre>Number of coefficients      : 12291</pre>"
            ],
            "text/plain": [
              "Number of coefficients      : 12291"
            ]
          },
          "metadata": {
            "tags": []
          }
        },
        {
          "output_type": "display_data",
          "data": {
            "text/html": [
              "<pre>Starting L-BFGS</pre>"
            ],
            "text/plain": [
              "Starting L-BFGS"
            ]
          },
          "metadata": {
            "tags": []
          }
        },
        {
          "output_type": "display_data",
          "data": {
            "text/html": [
              "<pre>--------------------------------------------------------</pre>"
            ],
            "text/plain": [
              "--------------------------------------------------------"
            ]
          },
          "metadata": {
            "tags": []
          }
        },
        {
          "output_type": "display_data",
          "data": {
            "text/html": [
              "<pre>+-----------+----------+-----------+--------------+-------------------+---------------------+</pre>"
            ],
            "text/plain": [
              "+-----------+----------+-----------+--------------+-------------------+---------------------+"
            ]
          },
          "metadata": {
            "tags": []
          }
        },
        {
          "output_type": "display_data",
          "data": {
            "text/html": [
              "<pre>| Iteration | Passes   | Step size | Elapsed Time | Training Accuracy | Validation Accuracy |</pre>"
            ],
            "text/plain": [
              "| Iteration | Passes   | Step size | Elapsed Time | Training Accuracy | Validation Accuracy |"
            ]
          },
          "metadata": {
            "tags": []
          }
        },
        {
          "output_type": "display_data",
          "data": {
            "text/html": [
              "<pre>+-----------+----------+-----------+--------------+-------------------+---------------------+</pre>"
            ],
            "text/plain": [
              "+-----------+----------+-----------+--------------+-------------------+---------------------+"
            ]
          },
          "metadata": {
            "tags": []
          }
        },
        {
          "output_type": "display_data",
          "data": {
            "text/html": [
              "<pre>| 0         | 3        | 0.500000  | 1.486780     | 0.728992          | 0.673267            |</pre>"
            ],
            "text/plain": [
              "| 0         | 3        | 0.500000  | 1.486780     | 0.728992          | 0.673267            |"
            ]
          },
          "metadata": {
            "tags": []
          }
        },
        {
          "output_type": "display_data",
          "data": {
            "text/html": [
              "<pre>| 1         | 6        | 0.250000  | 2.204062     | 0.760504          | 0.811881            |</pre>"
            ],
            "text/plain": [
              "| 1         | 6        | 0.250000  | 2.204062     | 0.760504          | 0.811881            |"
            ]
          },
          "metadata": {
            "tags": []
          }
        },
        {
          "output_type": "display_data",
          "data": {
            "text/html": [
              "<pre>| 2         | 13       | 3.998250  | 3.556133     | 0.762605          | 0.722772            |</pre>"
            ],
            "text/plain": [
              "| 2         | 13       | 3.998250  | 3.556133     | 0.762605          | 0.722772            |"
            ]
          },
          "metadata": {
            "tags": []
          }
        },
        {
          "output_type": "display_data",
          "data": {
            "text/html": [
              "<pre>| 3         | 15       | 2.921258  | 4.111977     | 0.405987          | 0.346535            |</pre>"
            ],
            "text/plain": [
              "| 3         | 15       | 2.921258  | 4.111977     | 0.405987          | 0.346535            |"
            ]
          },
          "metadata": {
            "tags": []
          }
        },
        {
          "output_type": "display_data",
          "data": {
            "text/html": [
              "<pre>| 4         | 17       | 1.162182  | 4.665266     | 0.747899          | 0.752475            |</pre>"
            ],
            "text/plain": [
              "| 4         | 17       | 1.162182  | 4.665266     | 0.747899          | 0.752475            |"
            ]
          },
          "metadata": {
            "tags": []
          }
        },
        {
          "output_type": "display_data",
          "data": {
            "text/html": [
              "<pre>| 9         | 24       | 1.000000  | 6.970897     | 0.910714          | 0.831683            |</pre>"
            ],
            "text/plain": [
              "| 9         | 24       | 1.000000  | 6.970897     | 0.910714          | 0.831683            |"
            ]
          },
          "metadata": {
            "tags": []
          }
        },
        {
          "output_type": "display_data",
          "data": {
            "text/html": [
              "<pre>+-----------+----------+-----------+--------------+-------------------+---------------------+</pre>"
            ],
            "text/plain": [
              "+-----------+----------+-----------+--------------+-------------------+---------------------+"
            ]
          },
          "metadata": {
            "tags": []
          }
        }
      ]
    },
    {
      "cell_type": "markdown",
      "metadata": {
        "id": "bNbcJWQwYaVQ"
      },
      "source": [
        "# Test the model"
      ]
    },
    {
      "cell_type": "code",
      "metadata": {
        "colab": {
          "base_uri": "https://localhost:8080/",
          "height": 230
        },
        "id": "WW7tMvxdYXTf",
        "outputId": "2876300e-6472-4bd3-b698-76e61f63a3fb"
      },
      "source": [
        "image_test[0:3]['image'].explore()"
      ],
      "execution_count": 15,
      "outputs": [
        {
          "output_type": "display_data",
          "data": {
            "text/html": [
              "<html lang=\"en\">                                                     <head>                                                               <style>                                                              .sframe {                                                            font-size: 12px;                                                   font-family: HelveticaNeue;                                        border: 1px solid silver;                                        }                                                                  .sframe thead th {                                                   background: #F7F7F7;                                               font-family: HelveticaNeue-Medium;                                 font-size: 14px;                                                   line-height: 16.8px;                                               padding-top: 16px;                                                 padding-bottom: 16px;                                              padding-left: 10px;                                                padding-right: 38px;                                               border-top: 1px solid #E9E9E9;                                     border-bottom: 1px solid #E9E9E9;                                  white-space: nowrap;                                               overflow: hidden;                                                  text-overflow:ellipsis;                                            text-align:center;                                                 font-weight:normal;                                              }                                                                  .sframe tbody th {                                                   background: #FFFFFF;                                               text-align:left;                                                   font-weight:normal;                                                border-right: 1px solid #E9E9E9;                                 }                                                                  .sframe td {                                                         background: #FFFFFF;                                               padding-left: 10px;                                                padding-right: 38px;                                               padding-top: 14px;                                                 padding-bottom: 14px;                                              border-bottom: 1px solid #E9E9E9;                                  max-height: 0px;                                                   transition: max-height 5s ease-out;                                vertical-align: middle;                                            font-family: HelveticaNeue;                                        font-size: 12px;                                                   line-height: 16.8px;                                               background: #FFFFFF;                                             }                                                                  .sframe tr {                                                         padding-left: 10px;                                                padding-right: 38px;                                               padding-top: 14px;                                                 padding-bottom: 14px;                                              border-bottom: 1px solid #E9E9E9;                                  max-height: 0px;                                                   transition: max-height 5s ease-out;                                vertical-align: middle;                                            font-family: HelveticaNeue;                                        font-size: 12px;                                                   line-height: 16.8px;                                               background: #FFFFFF;                                             }                                                                  .sframe tr:hover {                                                   background: silver;                                              },                                                               </style>                                                         </head>                                                            <body>                                                               <h1>  </h1>                                             <table border=\"1\" class=\"dataframe sframe\">\n",
              "  <thead>\n",
              "    <tr style=\"text-align: right;\">\n",
              "      <th></th>\n",
              "      <th>SArray</th>\n",
              "    </tr>\n",
              "  </thead>\n",
              "  <tbody>\n",
              "    <tr>\n",
              "      <th>0</th>\n",
              "      <td><img src=\"data:image/png;base64,iVBORw0KGgoAAAANSUhEUgAAACAAAAAgCAIAAAD8GO2jAAAJhElEQVR4nAXBWW+c13kA4HPes3z7zPfNDGchqaEoyZLqKonj2E5r2GkCJIDj3vSiF73sT+jvCRAjl4GTNAhQB0WRGEjRyI53ubUWmhVFi+QMOfvybWd5T56HvvNv36UOpeAUQKnaWC2ltIgOHQULjDgdUWKFrBjhFJxFow0iUkK5sbRGSglBh5RSpbS1nDoEYhVibkihLFcEnCsJokciIIxzC0CII1RArZRBxh0wRjgQipqYGohFZIr6lnkKmbJA0VI0vgBOAbizWhNqHLGOUMaAOzTE1c4aahlqxQKgBBkjiFYKYZxAzRCtMZY6Bw4ok475pfXGM50rt91q5mziM0mxEQaBZxAUEMoYE4RodJzbmjAHqD1mCKcEABgQRww6AlTIoH/99no5nc4KwSUQTxleuuDR6dR5Lc0iFfvb1fz8ahl73I6Xw55sJ57POXVGUmKd5YRQylNKqXEIYJRRknnWWoeWUCoFfP/HP/n0/gcXy1luuLHR6dnk5PzcSwf7vUPnJYp7It4x1XZ2dRGmrbPtZYXYS0QomNUFOMJrSFZFaE2dxabBLHcOjaKOODTAoCgW7//H7y6X9eUWTs8Xp6PnzI8ta0SNjghj7gceBR+iqSoH+8OqzE9OLueritH4+k4sLFJrYFKycZn+5k+P/3w0qoALwalzjIGUghKkYE9OT87GMyczFu9BthsMrsl2W1FsZFF/JxZmXS4uEolpJFVViqQ7yeH55aaqCaOcoAPePCxorOXOvEgK5VvnrDOIBsDTtjHO4/ONpXEr611P271Op5vEaZK0VK2r7TqL/Fhyq0pn1Go+I2jLPGcyvFqb0aqynAEncOfbr/EgiZs7r/39W2GyqwxFJlBGCrKke+986ovo2t7BvTjeEcLHWpfr3FnCKP/qwZejs7MwiqIwns3mi+WKUsiSwON8sdUn45VmPpWSh832wY3bpSbDw1sd7ZYnp9oZa8LXfvBPwxuvHH7r2aefP8ji/sXVlDvpCUEc2eb5ajHPIuEIseg6Ozu1NtPFijJI4ogzrqri6fOznTR4YT8B5sUXl5OXvvdq1GwzL7TGMeCnzzcyOyThfhJ1fR4HMvSlR9Du7Q6qqpBSrjebZta+fffFRqPZ7fUpMAoszVqcUcYgCFMqW8fPN2dXOQi/UVWqrrWQYRg1Ij9oCB5z+4uf/fyrh0eT6Vh6AGAOb+wFEVhT9rsdzqFW6satWzdv3WZClFW1zgtjsSyrNG16vt9I242sy4LsbDQFykSxzauiFMLb5JawQBAcpGx6fnxxdnx6fnRy9oQKu3fQ3x32pGStND0YDuM4GezuLddrbfFyMkNHKeNFWZVlSQmJ4qjVaWXt1DrkBB1zOOi0Q997/8v/zwy+0BK+ZyWvJlfPsF4Mbx4y3wsbWae3P5tvV+vCWrKzs8OFVymjtCmr2lhrrK1qZQy0O11KhaSVR411IRecNeMgTQKKZu2i6YJ2Eh5JYUE/u3jWy5oHt16sNPno00fno0USZ0L4Xx1/QwgggVqZbV6mrZZxdHR5FSVNzlwYhlJ6RM9svux1E2CU9rt9TgCrerB/OFHhku5uWbfZaTUbQvjJ9VsvvvJ3b56fXxVFcXl1NRqPBSf9TFTz03w5bjai+XRyOR6t1yujTegHzGmh5qy46Ee6HVAupdfI+sZyj3u3D4effJqsxS2km96eePjow9f/4V8/uP9hnq+1ml6NnxMCWw2c6AwWe8F6NfnasKzXzaw1ZVlVZZELz+BWV+ddUe7GYW1KHsVR1ukYyiuQftxI0+Y3z8dvvPq31RbDZDI6Pzs+OjJWASP5epW0B6tV0Yz9O7fvffzg8WePn73xw58KGT49Pl5tCiRQlduDXhJEQauVOG6McoCmaLZi5ovCOgIwvLZfVGpVoIiG126+PLoYPXr0uNNu+9Lb2927fnjTUVHWKKNWY+fad199YzKZ3b//QV6Uy9XWk17TjQ7i2Z0BZv6au1lEK9jMRoHQnFYUK4qm02oTYFfz/HScg9+/e+/btTbakuW6SLPeC4c3D3YHs8l0Nl0IL846u/NNNZ6ttxUyPxnsH97sdoZJkALwGrkRaAh/evx0+MLf+KBQldz3fd9PkjhuNO7evfOH//p9sRqHre7x2dW1/eHhnZc9yW8Mh8v54uGjr9HZ86Val7ay3npZdPv738yK1rXmzPMIqqWxjvs1Kv7F8dXw3mtIcmoMQbfebJbLabv10ttv/eil79x9999/SylrNrO93f24kTKTt/p8cKhXgf/5gwejLXWi0ey3OzebjPvW0ScuOh5byWhZVYUhBhk/WgVTmzhRgVo5ZABsd9B98/WXfWEPD/b+8Z//5de/fW86Xo1WWFXHkph5aY5Px0Rp17mTdUMkjlKBfohUautWVvhC+pzmtNBCONT8aAm/+5//femg05dRKPig3x90Gjdv7BOnRpPZO79877MvHtaVMoYQB84q6zUsCE4CQ5mBwOeEOFopcEA59xmiq4whKBAYBaUpbEH+8bOjX73/0deT7da6k6dfX+tlvhBbxd/9z48/f3hRGM/yBgQp8ROIm+ABYbamUFlrra4NqYxzAIxBGMo0EIEQVEZWhNpRmaS83dmZL9xosbz/4LHVB4TInf4+Zd5Hn/zfe+9/UGNIuAcAhBBbK4cO0TrnrKOCc8oYYZIzxhhPkpgBgNPWARJBLPb7zaTR5JwxITxTyWeX6zp/9IOXbwfpYFXhn/7ySeWMNtrzfEQsioIQwiinlBBHPMYpcAKcemEQBJxzrc0mzy262mAz6/QGndjn5WbD0VjiAJmvCLva1p89uXi7cBu3OV9svDg2BavqOgwDLnhV1xQYUCY4d8AdAeH5W22VyYMgcM7VBvNKxWkn3ekro548fizQAkFHHDImEHwr4mdXm3fe/f2j08uTi0leayRO+JJJGSZxI20SSrU2da2cI4wxrQ1jlBJXFtsi31Li0qzV6w+ms/nx8fHp0RNiLW+laVVt8lJJFhiDILz//ujLk4uLVa7n29IoEkWxQfQ8j0vpB5YB40JaAgYdReectVorrQLf77TbWWegHNSSl55ELvKq5HVVekBqqwWThhEHAEF8ejEBzox2xmBVVXmeA4DneZEUQeADoPS9IIyVMtP5HInhArJG1Gul/X5rmdeb5WK7Wqat1nQy5XVZeYyGnKAuKSNIEB0iYUY5Z6lzzjmHiACwWCzmumzEUTNrNRj4xLdYc2qZx+qq9jjl1JpiZYp6u5yhVr4nKsb+CkyFkScvikzRAAAAAElFTkSuQmCC\"/></td>\n",
              "    </tr>\n",
              "    <tr>\n",
              "      <th>1</th>\n",
              "      <td><img src=\"data:image/png;base64,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\"/></td>\n",
              "    </tr>\n",
              "    <tr>\n",
              "      <th>2</th>\n",
              "      <td><img src=\"data:image/png;base64,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\"/></td>\n",
              "    </tr>\n",
              "  </tbody>\n",
              "</table>                          </body>                                                          </html>"
            ],
            "text/plain": [
              "<IPython.core.display.HTML object>"
            ]
          },
          "metadata": {
            "tags": []
          }
        }
      ]
    },
    {
      "cell_type": "code",
      "metadata": {
        "colab": {
          "base_uri": "https://localhost:8080/"
        },
        "id": "4_M1LBA6Ydlw",
        "outputId": "20bea8c2-eea4-44cc-d994-f0a8ca21a513"
      },
      "source": [
        "deep_features_model.predict(image_test[0:3])"
      ],
      "execution_count": 16,
      "outputs": [
        {
          "output_type": "execute_result",
          "data": {
            "text/plain": [
              "dtype: str\n",
              "Rows: 3\n",
              "['cat', 'automobile', 'cat']"
            ]
          },
          "metadata": {
            "tags": []
          },
          "execution_count": 16
        }
      ]
    },
    {
      "cell_type": "code",
      "metadata": {
        "colab": {
          "base_uri": "https://localhost:8080/",
          "height": 281
        },
        "id": "_x0qs5GNYnXi",
        "outputId": "e846ba84-de47-421f-a115-d921ecd23bdb"
      },
      "source": [
        "image_test[100:103]['image'].explore()\r\n",
        "deep_features_model.predict(image_test[100:103])"
      ],
      "execution_count": 19,
      "outputs": [
        {
          "output_type": "display_data",
          "data": {
            "text/html": [
              "<html lang=\"en\">                                                     <head>                                                               <style>                                                              .sframe {                                                            font-size: 12px;                                                   font-family: HelveticaNeue;                                        border: 1px solid silver;                                        }                                                                  .sframe thead th {                                                   background: #F7F7F7;                                               font-family: HelveticaNeue-Medium;                                 font-size: 14px;                                                   line-height: 16.8px;                                               padding-top: 16px;                                                 padding-bottom: 16px;                                              padding-left: 10px;                                                padding-right: 38px;                                               border-top: 1px solid #E9E9E9;                                     border-bottom: 1px solid #E9E9E9;                                  white-space: nowrap;                                               overflow: hidden;                                                  text-overflow:ellipsis;                                            text-align:center;                                                 font-weight:normal;                                              }                                                                  .sframe tbody th {                                                   background: #FFFFFF;                                               text-align:left;                                                   font-weight:normal;                                                border-right: 1px solid #E9E9E9;                                 }                                                                  .sframe td {                                                         background: #FFFFFF;                                               padding-left: 10px;                                                padding-right: 38px;                                               padding-top: 14px;                                                 padding-bottom: 14px;                                              border-bottom: 1px solid #E9E9E9;                                  max-height: 0px;                                                   transition: max-height 5s ease-out;                                vertical-align: middle;                                            font-family: HelveticaNeue;                                        font-size: 12px;                                                   line-height: 16.8px;                                               background: #FFFFFF;                                             }                                                                  .sframe tr {                                                         padding-left: 10px;                                                padding-right: 38px;                                               padding-top: 14px;                                                 padding-bottom: 14px;                                              border-bottom: 1px solid #E9E9E9;                                  max-height: 0px;                                                   transition: max-height 5s ease-out;                                vertical-align: middle;                                            font-family: HelveticaNeue;                                        font-size: 12px;                                                   line-height: 16.8px;                                               background: #FFFFFF;                                             }                                                                  .sframe tr:hover {                                                   background: silver;                                              },                                                               </style>                                                         </head>                                                            <body>                                                               <h1>  </h1>                                             <table border=\"1\" class=\"dataframe sframe\">\n",
              "  <thead>\n",
              "    <tr style=\"text-align: right;\">\n",
              "      <th></th>\n",
              "      <th>SArray</th>\n",
              "    </tr>\n",
              "  </thead>\n",
              "  <tbody>\n",
              "    <tr>\n",
              "      <th>0</th>\n",
              "      <td><img src=\"data:image/png;base64,iVBORw0KGgoAAAANSUhEUgAAACAAAAAgCAIAAAD8GO2jAAAJZElEQVR4nD3VSW9k13mA4fN9Z7xTVbFYxeLU3WSz50lDy20hSJDIkhdZBWjYFhAjPy1AVll5CDLAUCIlsZdeGJYiSGpJPbGbbA5FFuvWvXXvPcN3sjDgzfsTnhd++MO/CMwxzohF6c1aFu/sDsuWnp2yvJf+/OO/++KLLz/55L+qavnB+7d/cL3f1yQxMKVBaC0EV5oJzVB6QlvH6ax6fnByPFucl9VsVjadFa1vIUYMTHAcyvr+7tal7VXM1h6/89Fsep5K8eFf/5Vg/rPPPtXcSckYBECC2JFzFDUwQgpcKCOlKvzmwNze3attqBr37OD8m2+fCYpeMsaJFUbe28n3No02mI6Hd+9ef/r107CsUik//Ju/HBRq+vob55xjMZIzgEZpIRCBBFLwDaJj0LEogfFMyyyVa6Od+9c3hIQoyRVa3L483tuMhjsi2t7aPn3z2tl20OuZVHIb33vv4dEkr05fWOYA0YeOewegERAjCQ4sei9VBAyRMUZATrGqp0Hw4HIRrm8Mb2xmhl8EEmk+LIrhH774XIo03b6kwNjA6paSfLVrlsF1LtQQKFLQAmOIyIMCzlE2UVJkgBgZk8h58MCYMIztrK/c3R3lWHIBjqndaw/m8648n5seTcvZrF7ECMEjxCxbuSSV6MoTe+YEOheRMXAELAbNhUAEQM6ARQIXgAVELrbHw+uXhim3ClobddJf1dngydf7wQUh5eHJyVdfPTk/Xwiu7968unNpkuVDJVTj22Z+rHkiE0W+jRgZAPcWGJD3ggMiiygYoniwlQ1xKQLrGJ93uJX3vn3xxAJ/dnh4/OWTo9PZ/GJOFIni9PSoe/TOW3l/Mt4BmTtz3LWz0coqhCq0ZeCBRxsCC8AjEvLAomDERK48UGidbLxsRL50isiJNH+6/2r/YGotJUkCGBHi68M3v/nN6YsXrz786MP79x6M1nf2v/vqaLrY2b48mKh6fhK6k661oGJEa+OSEUUWBBeMRNphmg6318ZXPPCvv306LZ+dzsoYGQDEGIlICEERm6774+eff//06ePHj3/0wY/Gm3svn34vk43BaOSs7jyZJGSZQdm+PviuXXaDnhEUQ0cyG+8eLdjpwYuT0+n+m4OOAuMQGQjBAYAx9qcKpUMIp+ezX/zq1/lg5c6dO3fefSeT+nA6n8+djqlWInJZ1o2LOnKu0r6YzeuvD8+qr+ZHF6FcdFmemTxhrkHGhBDBEwBIKRljgaJi3NqOQqyq5S9/9QvL/vb9Hzzqomt8mQ8LN+9aH6tZc3R6ZhKztr62OhqJk1k3rcICHeo85/Lmjet5kTnXvXz5YlHVjIO1ljEmhEiSFCIRMUDOAA/eHH762X9ub4xH/V5ZTjOllIDZrEpMkhRrWcZXxtvzqhLpYDuWs0XZmUxdvrJ2+87OaDhy1h0d7C8i5XnRdV1ZliEEKWUgBlxwjoEBB324f/5P//jPj965d+3KJhnu2qZXjLnQYFMf0VO6qJdidWN3V2/o2WJre/3Rw7vrk7EW5tXLA9805EMIIcaIiN77plkicm2MUqquawTdlPTGzn938fujq5t1Na2b6cc//YeH7957tX/gvC0rn2SrYjDZfPtS7y1pJpNxlnOtVSQ0WY8JDdRJ4suqxOAVRB7JO2+MRhTKZDFEFoPzsWrw93/8zratkfDs5cHbD6k/HL7Yf0IsrA5WxcpovOi8TLQximLorJfCCGVCjADMdQ15azRfNjUBIcplXSkTudTWtcZwRIyIIsk9Sde5758+n12cOQvnFyeNWhjNRVsvkeNsdoSKXd3ba5s2zwdV1Wxtbdphe+PG3sXF7NWr52fnp+ViKaVxnryzgSIA67rOGJOmqXMOIBrDX+4//+1v/3d395YUKjG87Spx8Hp/Y2td89jvp+Px2DtSyoQQfvLTx+enJ5PJKjA6Pnlzdj79n//+3fHxHFiUHG1wUihiDAGIqCzLGKLOdJLEql5UiwWDUBSm6BUi0djL5GrR39vbE0IDi5zzyWTS7/fcpfUYgzHy8s5mjGG4svof//bp6zdH1jvOhdHSUqAY27at6zo1yXDUf/T+1StXrgrMTZIO+nmS5WJvZ7MotF5Z6fdWgaceHecIQEKA7OfAonNdvSwB8L2HD5vK/cu//ntZNz6Q7VrGGBEh4mg0iiH0etmt2zc21i8Byzl3zeKkrE4wy8BIGBQ9CpJFjiC89/P5/Oj4cDa7mF9UIbDE5Eolvbz39lsPbt28zoGxSBQC51xrPRqN+/0+IPjQCcGadjk9nVKMDLUSKdbNhVHC6BTRxIhnZ2fPnz2/uJjN53Nnve08glAqASas9f1+cevmjdWVFa0VR5BSco5/9irGYF1nuw6AaW02Ni4X+QDL0Dv1ynIFzAFrq3L67TdfNosF+rgo58iBcwQGzbIlZrOcv/vg3tXLO8i4D55BF5mdXZxa245Gq2uTTcU3evn2pa0JZ3Vsa05WHEyXuhdNkUkROGdr48H5ZIxEwZNAJHLOWQAVAiWZ5MzmmVobDZ21IYa8UJPJBkdzNr3Y29udjPuJXivSNcTzEJZt0yFDcWVjOOqb2ckrnzfK6K5ZTtbGtnNSc6XVYDDw3ldVlee5kgGiF4Ktb6wKyWTg9++/de/eAwRxejq7feumQu/Ju+B82xK5XOjMpCLhAWzla7yoG6bMvKon65ud9UXRAwQiklJqrbXWnZ0DcKl4f5BywQRwxvDa3g1E/OijqxyhqeYnR+flYj4e94kia731XmxPVpxvQ7tIEmxskBKMUWlGxNhkPC7yDBH/NLXlknkKAKzfz6XkdWcPD46JqCgKaxtErJvG+s62y3JBFDpJvpwfC8GZlLKc12AyZJSnuVQ8SU3WH/UHK8goxsg5d85FQm95CBE5Xrt24/Mvv2+armnaXq/34sXzGMl70lJaZ2cXDqLtJ8gFFz54o2TR6xFF77veyhAZS7I0LwoGjAJZa5VSIQRrgaxwHeVZ/+Of/b1Qn3jXZGm+WCyc74qiByCNkiwGiRCDSnM+Gq+IRb30JKU0RJFz7Nol6iUaBZxTjBCj9z7G2LZttWggRMnloJ/kfPDBBz9GsEXR++L//nBlZ/vy5e166bp2OVjpJ8qQ95zK2XwmjJa2acmzEPlwJfeusdWiq3yerTIhIfrIQtvZum4pekBGKLg0rm03VnPvlucnr6ryLIZNFkWe6cRoBOY6F4m62ne++X+eW3ioIBSkngAAAABJRU5ErkJggg==\"/></td>\n",
              "    </tr>\n",
              "    <tr>\n",
              "      <th>1</th>\n",
              "      <td><img src=\"data:image/png;base64,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\"/></td>\n",
              "    </tr>\n",
              "    <tr>\n",
              "      <th>2</th>\n",
              "      <td><img src=\"data:image/png;base64,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\"/></td>\n",
              "    </tr>\n",
              "  </tbody>\n",
              "</table>                          </body>                                                          </html>"
            ],
            "text/plain": [
              "<IPython.core.display.HTML object>"
            ]
          },
          "metadata": {
            "tags": []
          }
        },
        {
          "output_type": "execute_result",
          "data": {
            "text/plain": [
              "dtype: str\n",
              "Rows: 3\n",
              "['dog', 'bird', 'dog']"
            ]
          },
          "metadata": {
            "tags": []
          },
          "execution_count": 19
        }
      ]
    },
    {
      "cell_type": "markdown",
      "metadata": {
        "id": "TDPptj8aYij4"
      },
      "source": [
        "# Evaluate the accuarcy of the model"
      ]
    },
    {
      "cell_type": "code",
      "metadata": {
        "colab": {
          "base_uri": "https://localhost:8080/"
        },
        "id": "0XjjrJz_YgOi",
        "outputId": "28595bb4-dfb5-4e83-a3a0-9529ebb5b9fc"
      },
      "source": [
        "deep_features_model.evaluate(image_test)"
      ],
      "execution_count": 17,
      "outputs": [
        {
          "output_type": "execute_result",
          "data": {
            "text/plain": [
              "{'accuracy': 0.795, 'auc': 0.9416357916666668, 'confusion_matrix': Columns:\n",
              " \ttarget_label\tstr\n",
              " \tpredicted_label\tstr\n",
              " \tcount\tint\n",
              " \n",
              " Rows: 16\n",
              " \n",
              " Data:\n",
              " +--------------+-----------------+-------+\n",
              " | target_label | predicted_label | count |\n",
              " +--------------+-----------------+-------+\n",
              " |     dog      |       cat       |  182  |\n",
              " |     bird     |       bird      |  816  |\n",
              " |  automobile  |       bird      |   18  |\n",
              " |  automobile  |    automobile   |  955  |\n",
              " |     bird     |    automobile   |   11  |\n",
              " |     cat      |       cat       |  653  |\n",
              " |     bird     |       cat       |  114  |\n",
              " |     cat      |       dog       |  251  |\n",
              " |     dog      |       dog       |  756  |\n",
              " |     dog      |    automobile   |   9   |\n",
              " +--------------+-----------------+-------+\n",
              " [16 rows x 3 columns]\n",
              " Note: Only the head of the SFrame is printed.\n",
              " You can use print_rows(num_rows=m, num_columns=n) to print more rows and columns., 'f1_score': 0.795350996078574, 'log_loss': 0.6144339230124309, 'precision': 0.7964228046363535, 'recall': 0.7949999999999999, 'roc_curve': Columns:\n",
              " \tthreshold\tfloat\n",
              " \tfpr\tfloat\n",
              " \ttpr\tfloat\n",
              " \tp\tint\n",
              " \tn\tint\n",
              " \tclass\tint\n",
              " \n",
              " Rows: 4004\n",
              " \n",
              " Data:\n",
              " +-----------+---------------------+-------+------+------+-------+\n",
              " | threshold |         fpr         |  tpr  |  p   |  n   | class |\n",
              " +-----------+---------------------+-------+------+------+-------+\n",
              " |    0.0    |         1.0         |  1.0  | 1000 | 3000 |   0   |\n",
              " |   0.001   | 0.35933333333333334 | 0.999 | 1000 | 3000 |   0   |\n",
              " |   0.002   |  0.2816666666666667 | 0.998 | 1000 | 3000 |   0   |\n",
              " |   0.003   | 0.23633333333333334 | 0.998 | 1000 | 3000 |   0   |\n",
              " |   0.004   | 0.21133333333333335 | 0.998 | 1000 | 3000 |   0   |\n",
              " |   0.005   | 0.19166666666666668 | 0.998 | 1000 | 3000 |   0   |\n",
              " |   0.006   | 0.17966666666666667 | 0.998 | 1000 | 3000 |   0   |\n",
              " |   0.007   |        0.168        | 0.998 | 1000 | 3000 |   0   |\n",
              " |   0.008   |        0.157        | 0.998 | 1000 | 3000 |   0   |\n",
              " |   0.009   | 0.15066666666666667 | 0.998 | 1000 | 3000 |   0   |\n",
              " +-----------+---------------------+-------+------+------+-------+\n",
              " [4004 rows x 6 columns]\n",
              " Note: Only the head of the SFrame is printed.\n",
              " You can use print_rows(num_rows=m, num_columns=n) to print more rows and columns.}"
            ]
          },
          "metadata": {
            "tags": []
          },
          "execution_count": 17
        }
      ]
    },
    {
      "cell_type": "code",
      "metadata": {
        "id": "4hyMBW5kYlsq"
      },
      "source": [
        ""
      ],
      "execution_count": null,
      "outputs": []
    }
  ]
}